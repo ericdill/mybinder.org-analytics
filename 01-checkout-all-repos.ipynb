{
 "cells": [
  {
   "cell_type": "markdown",
   "metadata": {},
   "source": [
    "# Fetch all GitHub Repositories\n",
    "\n",
    "This Notebook fetches all GitHub repositories that have been launched on\n",
    "mybinder.org since we started keeping records. "
   ]
  },
  {
   "cell_type": "code",
   "execution_count": 4,
   "metadata": {},
   "outputs": [],
   "source": [
    "import pandas as pd\n",
    "from tqdm.auto import tqdm"
   ]
  },
  {
   "cell_type": "markdown",
   "metadata": {},
   "source": [
    "Read the [machine readable index](https://archive.analytics.mybinder.org/index.jsonl) to get\n",
    "the list of event archive files. There is one archive file per day."
   ]
  },
  {
   "cell_type": "code",
   "execution_count": 5,
   "metadata": {},
   "outputs": [],
   "source": [
    "archive_index = pd.read_json('https://archive.analytics.mybinder.org/index.jsonl', lines=True)\n",
    "event_files = 'https://archive.analytics.mybinder.org/' + archive_index['name']"
   ]
  },
  {
   "cell_type": "markdown",
   "metadata": {},
   "source": [
    "Now we fetch all the event archive files & load them into a single pandas dataframe"
   ]
  },
  {
   "cell_type": "code",
   "execution_count": 6,
   "metadata": {},
   "outputs": [
    {
     "data": {
      "application/vnd.jupyter.widget-view+json": {
       "model_id": "8f34c4b07126407c8bfc29aa50b632b9",
       "version_major": 2,
       "version_minor": 0
      },
      "text/plain": [
       "HBox(children=(IntProgress(value=0, max=50), HTML(value='')))"
      ]
     },
     "metadata": {},
     "output_type": "display_data"
    },
    {
     "name": "stdout",
     "output_type": "stream",
     "text": [
      "\n"
     ]
    }
   ],
   "source": [
    "all_launches = pd.DataFrame()\n",
    "for event_file in tqdm(event_files):\n",
    "    launches = pd.read_json(event_file, lines=True)\n",
    "    all_launches = pd.concat([all_launches, launches])"
   ]
  },
  {
   "cell_type": "markdown",
   "metadata": {},
   "source": [
    "Our dataframe now has *all* the launches on mybinder.org since Nov '18"
   ]
  },
  {
   "cell_type": "code",
   "execution_count": 7,
   "metadata": {},
   "outputs": [
    {
     "data": {
      "text/plain": [
       "547730"
      ]
     },
     "execution_count": 7,
     "metadata": {},
     "output_type": "execute_result"
    }
   ],
   "source": [
    "len(all_launches)"
   ]
  },
  {
   "cell_type": "code",
   "execution_count": 8,
   "metadata": {},
   "outputs": [
    {
     "data": {
      "text/html": [
       "<div>\n",
       "<style scoped>\n",
       "    .dataframe tbody tr th:only-of-type {\n",
       "        vertical-align: middle;\n",
       "    }\n",
       "\n",
       "    .dataframe tbody tr th {\n",
       "        vertical-align: top;\n",
       "    }\n",
       "\n",
       "    .dataframe thead th {\n",
       "        text-align: right;\n",
       "    }\n",
       "</style>\n",
       "<table border=\"1\" class=\"dataframe\">\n",
       "  <thead>\n",
       "    <tr style=\"text-align: right;\">\n",
       "      <th></th>\n",
       "      <th>provider</th>\n",
       "      <th>schema</th>\n",
       "      <th>spec</th>\n",
       "      <th>status</th>\n",
       "      <th>timestamp</th>\n",
       "      <th>version</th>\n",
       "    </tr>\n",
       "  </thead>\n",
       "  <tbody>\n",
       "    <tr>\n",
       "      <th>0</th>\n",
       "      <td>GitHub</td>\n",
       "      <td>binderhub.jupyter.org/launch</td>\n",
       "      <td>Qiskit/qiskit-tutorial/master</td>\n",
       "      <td>success</td>\n",
       "      <td>2018-11-03 00:00:00</td>\n",
       "      <td>1</td>\n",
       "    </tr>\n",
       "    <tr>\n",
       "      <th>1</th>\n",
       "      <td>GitHub</td>\n",
       "      <td>binderhub.jupyter.org/launch</td>\n",
       "      <td>ipython/ipython-in-depth/master</td>\n",
       "      <td>success</td>\n",
       "      <td>2018-11-03 00:00:00</td>\n",
       "      <td>1</td>\n",
       "    </tr>\n",
       "    <tr>\n",
       "      <th>2</th>\n",
       "      <td>GitHub</td>\n",
       "      <td>binderhub.jupyter.org/launch</td>\n",
       "      <td>QISKit/qiskit-tutorial/master</td>\n",
       "      <td>success</td>\n",
       "      <td>2018-11-03 00:00:00</td>\n",
       "      <td>1</td>\n",
       "    </tr>\n",
       "    <tr>\n",
       "      <th>3</th>\n",
       "      <td>GitHub</td>\n",
       "      <td>binderhub.jupyter.org/launch</td>\n",
       "      <td>QISKit/qiskit-tutorial/master</td>\n",
       "      <td>success</td>\n",
       "      <td>2018-11-03 00:01:00</td>\n",
       "      <td>1</td>\n",
       "    </tr>\n",
       "    <tr>\n",
       "      <th>4</th>\n",
       "      <td>GitHub</td>\n",
       "      <td>binderhub.jupyter.org/launch</td>\n",
       "      <td>jupyterlab/jupyterlab-demo/master</td>\n",
       "      <td>success</td>\n",
       "      <td>2018-11-03 00:01:00</td>\n",
       "      <td>1</td>\n",
       "    </tr>\n",
       "  </tbody>\n",
       "</table>\n",
       "</div>"
      ],
      "text/plain": [
       "  provider                        schema                               spec  \\\n",
       "0   GitHub  binderhub.jupyter.org/launch      Qiskit/qiskit-tutorial/master   \n",
       "1   GitHub  binderhub.jupyter.org/launch    ipython/ipython-in-depth/master   \n",
       "2   GitHub  binderhub.jupyter.org/launch      QISKit/qiskit-tutorial/master   \n",
       "3   GitHub  binderhub.jupyter.org/launch      QISKit/qiskit-tutorial/master   \n",
       "4   GitHub  binderhub.jupyter.org/launch  jupyterlab/jupyterlab-demo/master   \n",
       "\n",
       "    status           timestamp  version  \n",
       "0  success 2018-11-03 00:00:00        1  \n",
       "1  success 2018-11-03 00:00:00        1  \n",
       "2  success 2018-11-03 00:00:00        1  \n",
       "3  success 2018-11-03 00:01:00        1  \n",
       "4  success 2018-11-03 00:01:00        1  "
      ]
     },
     "execution_count": 8,
     "metadata": {},
     "output_type": "execute_result"
    }
   ],
   "source": [
    "all_launches.head()"
   ]
  },
  {
   "cell_type": "markdown",
   "metadata": {},
   "source": [
    "We select only launches from GitHub & split them into user, repo & ref columns"
   ]
  },
  {
   "cell_type": "code",
   "execution_count": 9,
   "metadata": {},
   "outputs": [],
   "source": [
    "gh_launches = all_launches[all_launches.provider == 'GitHub'].spec\\\n",
    "                .str.split('/', expand=True, n=2)\\\n",
    "                .rename(columns={0: 'user', 1: 'repo', 2: 'ref'})"
   ]
  },
  {
   "cell_type": "code",
   "execution_count": 10,
   "metadata": {},
   "outputs": [
    {
     "data": {
      "text/plain": [
       "545160"
      ]
     },
     "execution_count": 10,
     "metadata": {},
     "output_type": "execute_result"
    }
   ],
   "source": [
    "len(gh_launches)"
   ]
  },
  {
   "cell_type": "code",
   "execution_count": 11,
   "metadata": {},
   "outputs": [
    {
     "data": {
      "text/html": [
       "<div>\n",
       "<style scoped>\n",
       "    .dataframe tbody tr th:only-of-type {\n",
       "        vertical-align: middle;\n",
       "    }\n",
       "\n",
       "    .dataframe tbody tr th {\n",
       "        vertical-align: top;\n",
       "    }\n",
       "\n",
       "    .dataframe thead th {\n",
       "        text-align: right;\n",
       "    }\n",
       "</style>\n",
       "<table border=\"1\" class=\"dataframe\">\n",
       "  <thead>\n",
       "    <tr style=\"text-align: right;\">\n",
       "      <th></th>\n",
       "      <th>user</th>\n",
       "      <th>repo</th>\n",
       "      <th>ref</th>\n",
       "    </tr>\n",
       "  </thead>\n",
       "  <tbody>\n",
       "    <tr>\n",
       "      <th>0</th>\n",
       "      <td>Qiskit</td>\n",
       "      <td>qiskit-tutorial</td>\n",
       "      <td>master</td>\n",
       "    </tr>\n",
       "    <tr>\n",
       "      <th>1</th>\n",
       "      <td>ipython</td>\n",
       "      <td>ipython-in-depth</td>\n",
       "      <td>master</td>\n",
       "    </tr>\n",
       "    <tr>\n",
       "      <th>2</th>\n",
       "      <td>QISKit</td>\n",
       "      <td>qiskit-tutorial</td>\n",
       "      <td>master</td>\n",
       "    </tr>\n",
       "    <tr>\n",
       "      <th>3</th>\n",
       "      <td>QISKit</td>\n",
       "      <td>qiskit-tutorial</td>\n",
       "      <td>master</td>\n",
       "    </tr>\n",
       "    <tr>\n",
       "      <th>4</th>\n",
       "      <td>jupyterlab</td>\n",
       "      <td>jupyterlab-demo</td>\n",
       "      <td>master</td>\n",
       "    </tr>\n",
       "  </tbody>\n",
       "</table>\n",
       "</div>"
      ],
      "text/plain": [
       "         user              repo     ref\n",
       "0      Qiskit   qiskit-tutorial  master\n",
       "1     ipython  ipython-in-depth  master\n",
       "2      QISKit   qiskit-tutorial  master\n",
       "3      QISKit   qiskit-tutorial  master\n",
       "4  jupyterlab   jupyterlab-demo  master"
      ]
     },
     "execution_count": 11,
     "metadata": {},
     "output_type": "execute_result"
    }
   ],
   "source": [
    "gh_launches.head()"
   ]
  },
  {
   "cell_type": "markdown",
   "metadata": {},
   "source": [
    "For this analysis, we want the unique list of repositories that have been\n",
    "launched. However, I can't find a way to do this natively in pandas easily,\n",
    "since we need this to be unique across two columns"
   ]
  },
  {
   "cell_type": "code",
   "execution_count": 12,
   "metadata": {
    "lines_to_next_cell": 2
   },
   "outputs": [
    {
     "data": {
      "application/vnd.jupyter.widget-view+json": {
       "model_id": "aea5a8207f0e45d1a3a3d0758acb2513",
       "version_major": 2,
       "version_minor": 0
      },
      "text/plain": [
       "HBox(children=(IntProgress(value=1, bar_style='info', max=1), HTML(value='')))"
      ]
     },
     "metadata": {},
     "output_type": "display_data"
    },
    {
     "name": "stdout",
     "output_type": "stream",
     "text": [
      "\n"
     ]
    }
   ],
   "source": [
    "# FIXME: Pandas should have a way to select unique things across two columns, right?!\n",
    "repos = set()\n",
    "launches_iter = tqdm(gh_launches.iterrows())\n",
    "for _, launch in launches_iter:\n",
    "    repos.add((launch.user, launch.repo))\n",
    "    launches_iter.set_description(f'Found {len(repos)} repos')"
   ]
  },
  {
   "cell_type": "markdown",
   "metadata": {},
   "source": [
    "# Check out all repositories\n",
    "\n",
    "We check out repositories that already haven't been checked out.\n",
    "If a repository is no longer available, we ignore it.\n",
    "\n",
    "Currently, we also ignore gists."
   ]
  },
  {
   "cell_type": "code",
   "execution_count": 13,
   "metadata": {},
   "outputs": [],
   "source": [
    "import subprocess\n",
    "import os\n",
    "import requests\n",
    "\n",
    "class RepoDeletedException(Exception):\n",
    "    \"\"\"\n",
    "    Raised when we attempt to check out a repo that has been deleted.\n",
    "    \n",
    "    Useful to distinguish this case from git checkout generally failing\n",
    "    \"\"\"\n",
    "    pass\n",
    "\n",
    "def checkout_repo(prefix, user, repo):\n",
    "    \"\"\"\n",
    "    Checkout a github repo if it isn't already checked out\n",
    "    \n",
    "    Repos are created under {prefix}/{user}/{repo}. If there\n",
    "    already is a repo there, it isn't updated.\n",
    "    \n",
    "    Raises RepoDeletedException if the repository does not\n",
    "    exist / has been made private.\n",
    "    \"\"\"\n",
    "    checkout_path = os.path.join(prefix, user, repo)\n",
    "    repo_url = f'https://github.com/{user}/{repo}'\n",
    "    if os.path.exists(checkout_path):\n",
    "        # Already checked out, so let's get out\n",
    "        return\n",
    "    os.makedirs(os.path.join(prefix, user), exist_ok=True)\n",
    "    try:\n",
    "        subprocess.check_call([\n",
    "            'git', 'clone', repo_url, checkout_path\n",
    "        ])\n",
    "    except subprocess.CalledProcessError as e:\n",
    "        if requests.get(repo_url).status_code == 404:\n",
    "            raise RepoDeletedException()\n",
    "        raise"
   ]
  },
  {
   "cell_type": "code",
   "execution_count": 14,
   "metadata": {},
   "outputs": [
    {
     "data": {
      "application/vnd.jupyter.widget-view+json": {
       "model_id": "824a5fe5c1914a15aa484430dbe68e58",
       "version_major": 2,
       "version_minor": 0
      },
      "text/plain": [
       "HBox(children=(IntProgress(value=0, description='Checking out', layout=Layout(flex='2'), max=5405, style=Progr…"
      ]
     },
     "metadata": {},
     "output_type": "display_data"
    },
    {
     "data": {
      "application/vnd.jupyter.widget-view+json": {
       "model_id": "01630e0aab9c41c598783c2dfd711a5e",
       "version_major": 2,
       "version_minor": 0
      },
      "text/plain": [
       "HBox(children=(IntProgress(value=1, bar_style='info', layout=Layout(flex='2'), max=1), HTML(value='')), layout…"
      ]
     },
     "metadata": {},
     "output_type": "display_data"
    }
   ],
   "source": [
    "repositer = tqdm(repos, dynamic_ncols=True, desc='Checking out')\n",
    "deleted_repos = 0\n",
    "with tqdm(dynamic_ncols=True) as not_found_progress:\n",
    "    for user, repo in repositer:\n",
    "        try:\n",
    "            checkout_repo('repos', user, repo)\n",
    "            repositer.set_description(f'{user}/{repo}')\n",
    "        except RepoDeletedException:\n",
    "            deleted_repos += 1\n",
    "            not_found_progress.update(deleted_repos)\n",
    "            not_found_progress.set_description(f'{user}/{repo}')"
   ]
  }
 ],
 "metadata": {
  "kernelspec": {
   "display_name": "Python 3",
   "language": "python",
   "name": "python3"
  },
  "language_info": {
   "codemirror_mode": {
    "name": "ipython",
    "version": 3
   },
   "file_extension": ".py",
   "mimetype": "text/x-python",
   "name": "python",
   "nbconvert_exporter": "python",
   "pygments_lexer": "ipython3",
   "version": "3.6.5"
  }
 },
 "nbformat": 4,
 "nbformat_minor": 2
}
