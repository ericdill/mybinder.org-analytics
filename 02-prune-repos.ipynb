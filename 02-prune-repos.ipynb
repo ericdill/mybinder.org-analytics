{
 "cells": [
  {
   "cell_type": "markdown",
   "metadata": {},
   "source": [
    "# Prune repository contents\n",
    "\n",
    "This notebook clears out all files in the repositories we have checked\n",
    "out except for the files repo2docker uses to determine what to build."
   ]
  },
  {
   "cell_type": "code",
   "execution_count": 19,
   "metadata": {},
   "outputs": [],
   "source": [
    "import os\n",
    "from glob import glob\n",
    "from tqdm.auto import tqdm\n",
    "import shutil"
   ]
  },
  {
   "cell_type": "code",
   "execution_count": 20,
   "metadata": {},
   "outputs": [],
   "source": [
    "def find_paths_to_keep(repos_dir, filenames):\n",
    "    \"\"\"\n",
    "    Yield list of paths to be kept from inside repos_dir\n",
    "    \n",
    "    If there is a 'binder' directory, it will be returned in\n",
    "    full. If not, files in the root directory that match any\n",
    "    of the names in the `filenames` iterable will be returned.\n",
    "    \"\"\"\n",
    "    for repo in glob(os.path.join(repos_dir, '*', '*')):\n",
    "        binder_dir = os.path.join(repo, 'binder')\n",
    "        if os.path.exists(binder_dir):\n",
    "            yield binder_dir\n",
    "            continue\n",
    "        \n",
    "        for filename in filenames:\n",
    "            fullpath = os.path.join(repo, filename)\n",
    "            if os.path.exists(fullpath):\n",
    "                yield fullpath\n",
    "    "
   ]
  },
  {
   "cell_type": "code",
   "execution_count": 21,
   "metadata": {},
   "outputs": [
    {
     "data": {
      "application/vnd.jupyter.widget-view+json": {
       "model_id": "793313fea6f44b6a9c148dc5d4ab1b04",
       "version_major": 2,
       "version_minor": 0
      },
      "text/plain": [
       "HBox(children=(IntProgress(value=1, bar_style='info', max=1), HTML(value='')))"
      ]
     },
     "metadata": {},
     "output_type": "display_data"
    },
    {
     "name": "stdout",
     "output_type": "stream",
     "text": [
      "\n"
     ]
    }
   ],
   "source": [
    "filenames_to_keep = [\n",
    "    'requirements.txt',\n",
    "    'runtime.txt',\n",
    "    'apt.txt',\n",
    "    'Dockerfile',\n",
    "    'postBuild',\n",
    "    'install.R',\n",
    "    'DESCRIPTION',\n",
    "    'setup.py',\n",
    "    'REQUIRE'\n",
    "]\n",
    "\n",
    "for kept_path in tqdm(find_files_to_keep('repos', filenames_to_keep)):\n",
    "    target_path = os.path.join('sparse', kept_path)\n",
    "    os.makedirs(os.path.dirname(target_path), exist_ok=True)\n",
    "    if os.path.isdir(kept_path):\n",
    "        if os.path.exists(target_path):\n",
    "            shutil.rmtree(target_path)\n",
    "        shutil.copytree(kept_path, target_path)\n",
    "    else:\n",
    "        shutil.copy2(kept_path, target_path)\n",
    "    "
   ]
  }
 ],
 "metadata": {
  "kernelspec": {
   "display_name": "Python 3",
   "language": "python",
   "name": "python3"
  },
  "language_info": {
   "codemirror_mode": {
    "name": "ipython",
    "version": 3
   },
   "file_extension": ".py",
   "mimetype": "text/x-python",
   "name": "python",
   "nbconvert_exporter": "python",
   "pygments_lexer": "ipython3",
   "version": "3.6.5"
  }
 },
 "nbformat": 4,
 "nbformat_minor": 2
}
