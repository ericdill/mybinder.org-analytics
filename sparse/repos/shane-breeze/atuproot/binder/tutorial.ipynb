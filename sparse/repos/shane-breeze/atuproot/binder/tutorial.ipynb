{
 "cells": [
  {
   "cell_type": "markdown",
   "metadata": {},
   "source": [
    "# Tutorial"
   ]
  },
  {
   "cell_type": "markdown",
   "metadata": {},
   "source": [
    "The `AtUproot` class is the user interface to the underlying alphatwirl tools which are used to read in and loop over blocks of events.\n",
    "\n",
    "In this example we will read in Monte Carlo generated events for the production of the Z boson which decays into muons. The mass of the Z is encoded in the inputs and will be plotted as a histogram."
   ]
  },
  {
   "cell_type": "code",
   "execution_count": 1,
   "metadata": {},
   "outputs": [],
   "source": [
    "from collections import namedtuple\n",
    "import matplotlib.pyplot as plt\n",
    "import numpy as np\n",
    "\n",
    "from atuproot.AtUproot import AtUproot"
   ]
  },
  {
   "cell_type": "markdown",
   "metadata": {},
   "source": [
    "Initialise an instance of `AtUproot` with the desired options:\n",
    "* `quiet` - suppressed the output to stdout\n",
    "* `parallel_mode` - option for parallelisation\n",
    "* `process` - for 'multiprocessing mode. The number of cores to run on\n",
    "* `max_blocks_per_dataset` - number of blocks per datasets (will either be hzz or zmumu here). A block is a group of events read into a numpy array at once.\n",
    "* `max_blocks_per_process` - number of blocks per process. A process is a singular unit of the set of parallel jobs.\n",
    "* `nevents_per_block` - this defines the size of a block. i.e. the number of events to read in to an array\n",
    "* `profile` - boolean. Profile the code and output the results into `profile_out_path`. To profile the code that operates on the tree then run in 'multiprocessing mode with zero processes (i.e. no parallelisation)\n",
    "* `profile_out_path` - see above."
   ]
  },
  {
   "cell_type": "code",
   "execution_count": 2,
   "metadata": {},
   "outputs": [],
   "source": [
    "process = AtUproot(\n",
    "    \"output\",\n",
    "    quiet = False,\n",
    "    parallel_mode = 'multiprocessing',\n",
    "    process = 0,\n",
    "    max_blocks_per_dataset = -1,\n",
    "    max_blocks_per_process = -1,\n",
    "    nevents_per_block = 1000000,\n",
    "    profile = False,\n",
    "    profile_out_path = 'profile.txt',\n",
    ")"
   ]
  },
  {
   "cell_type": "markdown",
   "metadata": {},
   "source": [
    "We now have to define a few modules to process the contents of the tree.\n",
    "\n",
    "Here we create a `TestReader` that has no required inheritance and has the following methods:\n",
    "* `__init__` - initialise whatever you need\n",
    "* `begin` - runs at the starts of each process with some information on the event (no arrays have been read in yet)\n",
    "* `end` - runs at the end of each process. Mainly to remove any non-picklable objects such as lambda functions\n",
    "* `event` - runs on each block of events. The attributes of `event` should include all branches/leaves of the tree (and additional information)\n",
    "* `merge` - takes `other` which is the a `TestReader` instances from anther process for the same dataset. This should define how to merge the results. Here we just sum the histograms (if they exist)"
   ]
  },
  {
   "cell_type": "code",
   "execution_count": 3,
   "metadata": {},
   "outputs": [],
   "source": [
    "class TestReader(object):\n",
    "    def __init__(self):\n",
    "        self.bins = np.linspace(60., 120., 61)\n",
    "\n",
    "    def begin(self, event):\n",
    "        self.hist = None\n",
    "        print(event.config)\n",
    "        \n",
    "    def end(self):\n",
    "        pass\n",
    "    \n",
    "    def event(self, event):\n",
    "        hist, _ = np.histogram(event.M, self.bins)\n",
    "        if self.hist is None:\n",
    "            self.hist = hist\n",
    "        else:\n",
    "            self.hist += hist\n",
    "            \n",
    "    def merge(self, other):\n",
    "        if self.hist is None:\n",
    "            self = other\n",
    "            return\n",
    "        if other.hist is None:\n",
    "            return\n",
    "        \n",
    "        self.hist += other.hist"
   ]
  },
  {
   "cell_type": "markdown",
   "metadata": {},
   "source": [
    "Next is the `TestCollector` class which will be paired with the `TestReader` class. This has one method: `collect`, which takes a `dataset_readers_list` argument. This argument is a list of tuples of all `(dataset, readers)` combinations.\n",
    "\n",
    "We're running over 1 dataset so we'll take the first item in the list. Then the 2nd item in the tuple (i.e. the readers) and the 1st item in the readers list (we only have 1 reader). Therefore, `reader` will correspond to our `TestReader` for our 1st dataset."
   ]
  },
  {
   "cell_type": "code",
   "execution_count": 4,
   "metadata": {},
   "outputs": [],
   "source": [
    "class TestCollector(object):\n",
    "    def collect(self, dataset_readers_list):\n",
    "        reader = dataset_readers_list[0][1][0]\n",
    "        return (reader.bins, reader.hist)"
   ]
  },
  {
   "cell_type": "markdown",
   "metadata": {},
   "source": [
    "We pass the initialised `TestReader` and `TestCollector` as a list of pairs to `process`"
   ]
  },
  {
   "cell_type": "code",
   "execution_count": 5,
   "metadata": {},
   "outputs": [],
   "source": [
    "sequence = [(TestReader(), TestCollector())]"
   ]
  },
  {
   "cell_type": "markdown",
   "metadata": {},
   "source": [
    "Now we need to define our datasets (our inputs). This must be a list of classes or namedtuples with, at least, the attributes: `name` (your chosen name for the dataset), `tree` (tree name within the files) and `files` (list of files for the dataset)."
   ]
  },
  {
   "cell_type": "code",
   "execution_count": 6,
   "metadata": {},
   "outputs": [],
   "source": [
    "Dataset = namedtuple(\"Dataset\", \"name tree files\")\n",
    "hzz = Dataset(name = \"hzz\",\n",
    "             tree = \"events\",\n",
    "             files = [\"HZZ.root\"])\n",
    "zuu = Dataset(name = \"zuu\",\n",
    "             tree = \"events\",\n",
    "             files = [\"Zmumu.root\"])\n",
    "datasets = [zuu] #,hzz]"
   ]
  },
  {
   "cell_type": "markdown",
   "metadata": {},
   "source": [
    "Everything is setup, we just need to run the whole process as follows. This will return the return values of all our collectors"
   ]
  },
  {
   "cell_type": "code",
   "execution_count": 7,
   "metadata": {},
   "outputs": [
    {
     "name": "stdout",
     "output_type": "stream",
     "text": [
      "\n",
      "Fri Sep 28 11:55:12 2018\n",
      "        0 /        1 (  0.00%) zuu \n",
      "EventBuilderConfig(inputPaths=['Zmumu.root'], treeName='events', start_block=0, stop_block=-1, nevents_per_block=1000000, dataset=Dataset(name='zuu', tree='events', files=['Zmumu.root']), name='zuu')\n",
      "\n",
      "Fri Sep 28 11:55:12 2018\n",
      "        1 /        1 (100.00%) zuu \n",
      "\n",
      "\n",
      "Fri Sep 28 11:55:12 2018\n",
      "        1 /        1 (100.00%) zuu \n",
      "        1 /        1 (100.00%) collecting results \n",
      "\n"
     ]
    }
   ],
   "source": [
    "result = process.run(datasets, sequence)"
   ]
  },
  {
   "cell_type": "markdown",
   "metadata": {},
   "source": [
    "We want to get the 1st collector of our 1st dataset:"
   ]
  },
  {
   "cell_type": "code",
   "execution_count": 8,
   "metadata": {},
   "outputs": [],
   "source": [
    "bins, hist = result[0][0]"
   ]
  },
  {
   "cell_type": "code",
   "execution_count": 9,
   "metadata": {},
   "outputs": [
    {
     "data": {
      "text/plain": [
       "<BarContainer object of 60 artists>"
      ]
     },
     "execution_count": 9,
     "metadata": {},
     "output_type": "execute_result"
    },
    {
     "data": {
      "image/png": "[encoded data removed]",
      "text/plain": [
       "<Figure size 432x288 with 1 Axes>"
      ]
     },
     "metadata": {
      "needs_background": "light"
     },
     "output_type": "display_data"
    }
   ],
   "source": [
    "plt.bar(\n",
    "    (bins[1:]+bins[:-1])/2,\n",
    "    height = hist,\n",
    "    width = (bins[1:]-bins[:-1])\n",
    ")"
   ]
  }
 ],
 "metadata": {
  "kernelspec": {
   "display_name": "Python 3",
   "language": "python",
   "name": "python3"
  },
  "language_info": {
   "codemirror_mode": {
    "name": "ipython",
    "version": 3
   },
   "file_extension": ".py",
   "mimetype": "text/x-python",
   "name": "python",
   "nbconvert_exporter": "python",
   "pygments_lexer": "ipython3",
   "version": "3.6.6"
  }
 },
 "nbformat": 4,
 "nbformat_minor": 2
}
