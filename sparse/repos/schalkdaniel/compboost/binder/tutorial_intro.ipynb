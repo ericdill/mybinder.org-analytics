{
 "cells": [
  {
   "cell_type": "markdown",
   "metadata": {},
   "source": [
    "## Load Package"
   ]
  },
  {
   "cell_type": "code",
   "execution_count": null,
   "metadata": {},
   "outputs": [],
   "source": [
    "library(compboost)\n",
    "\n",
    "# Check installed version:\n",
    "packageVersion(\"compboost\")"
   ]
  },
  {
   "cell_type": "markdown",
   "metadata": {},
   "source": [
    "## Access Dataset"
   ]
  },
  {
   "cell_type": "code",
   "execution_count": null,
   "metadata": {},
   "outputs": [],
   "source": [
    "# Load data set with binary classification task:\n",
    "data(PimaIndiansDiabetes, package = \"mlbench\")\n",
    "# Create categorical feature:\n",
    "PimaIndiansDiabetes$pregnant.cat = ifelse(PimaIndiansDiabetes$pregnant == 0, \"no\", \"yes\")"
   ]
  },
  {
   "cell_type": "markdown",
   "metadata": {},
   "source": [
    "## Initialize a Compboost Model"
   ]
  },
  {
   "cell_type": "code",
   "execution_count": null,
   "metadata": {},
   "outputs": [],
   "source": [
    "# Define Compboost object:\n",
    "cboost = Compboost$new(data = PimaIndiansDiabetes, target = \"diabetes\", loss = LossBinomial$new())\n",
    "cboost"
   ]
  },
  {
   "cell_type": "markdown",
   "metadata": {},
   "source": [
    "## Add Base-Learner"
   ]
  },
  {
   "cell_type": "code",
   "execution_count": null,
   "metadata": {},
   "outputs": [],
   "source": [
    "# Add p-spline base-learner with default parameter:\n",
    "cboost$addBaselearner(feature = \"pressure\", id = \"spline\", bl.factory = BaselearnerPSpline)\n",
    "\n",
    "# Add another p-spline learner with custom parameters:\n",
    "cboost$addBaselearner(feature = \"age\", id = \"spline\", bl.factory = BaselearnerPSpline, degree = 3, \n",
    "  n.knots = 10, penalty = 4, differences = 2)\n",
    "\n",
    "# Add categorical feature (as single linear base-learner):\n",
    "cboost$addBaselearner(feature = \"pregnant.cat\", id = \"category\", bl.factory = BaselearnerPolynomial,\n",
    "  degree = 1, intercept = FALSE)\n",
    "\n",
    "# Check all registered base-learner:\n",
    "cboost$getBaselearnerNames()"
   ]
  },
  {
   "cell_type": "markdown",
   "metadata": {},
   "source": [
    "## Initial Training"
   ]
  },
  {
   "cell_type": "code",
   "execution_count": null,
   "metadata": {},
   "outputs": [],
   "source": [
    "# Train model:\n",
    "cboost$train(1000L, trace = 200L)\n",
    "cboost"
   ]
  },
  {
   "cell_type": "markdown",
   "metadata": {},
   "source": [
    "## Summarize Selected Features"
   ]
  },
  {
   "cell_type": "code",
   "execution_count": null,
   "metadata": {},
   "outputs": [],
   "source": [
    "selected.features = cboost$getSelectedBaselearner()\n",
    "table(selected.features)"
   ]
  },
  {
   "cell_type": "markdown",
   "metadata": {},
   "source": [
    "## Estimated Parameter"
   ]
  },
  {
   "cell_type": "code",
   "execution_count": null,
   "metadata": {},
   "outputs": [],
   "source": [
    "params = cboost$getEstimatedCoef()\n",
    "str(params)"
   ]
  },
  {
   "cell_type": "markdown",
   "metadata": {},
   "source": [
    "## Continue Training"
   ]
  },
  {
   "cell_type": "code",
   "execution_count": null,
   "metadata": {},
   "outputs": [],
   "source": [
    "cboost$train(3000)"
   ]
  },
  {
   "cell_type": "markdown",
   "metadata": {},
   "source": [
    "## Visualize Features"
   ]
  },
  {
   "cell_type": "code",
   "execution_count": null,
   "metadata": {},
   "outputs": [],
   "source": [
    "cboost$plot(\"age_spline\", iters = c(100, 500, 1000, 2000, 3000)) +\n",
    "  ggthemes::theme_tufte() + \n",
    "  ggplot2::scale_color_brewer(palette = \"Spectral\")"
   ]
  }
 ],
 "metadata": {},
 "nbformat": 4,
 "nbformat_minor": 2
}
