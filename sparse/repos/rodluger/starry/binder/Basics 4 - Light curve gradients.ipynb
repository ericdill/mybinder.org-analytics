{
 "cells": [
  {
   "cell_type": "markdown",
   "metadata": {},
   "source": [
    "# Light curve gradients\n",
    "The cool thing about analytic expressions for light curves is that their derivatives are also analytic, and therefore fast to compute (and accurate!). We've coded up a lot of the flux derivatives in `starry`, but most of the heavy lifting is done using autodifferentiation. Let's go over how to compute gradients with some simple examples."
   ]
  },
  {
   "cell_type": "markdown",
   "metadata": {},
   "source": [
    "## Gradients of `Map` instances"
   ]
  },
  {
   "cell_type": "markdown",
   "metadata": {},
   "source": [
    "Let's instantiate a low degree `Map` with some arbitrary spherical harmonic coefficients:"
   ]
  },
  {
   "cell_type": "code",
   "execution_count": null,
   "metadata": {
    "nbsphinx": "hidden"
   },
   "outputs": [],
   "source": [
    "%matplotlib inline"
   ]
  },
  {
   "cell_type": "code",
   "execution_count": null,
   "metadata": {},
   "outputs": [],
   "source": [
    "from starry import Map\n",
    "map = Map(lmax=2)\n",
    "map[1, 0] = 0.3\n",
    "map[2, -1] = 0.3\n",
    "map[2, 2] = -0.1\n",
    "map.show()"
   ]
  },
  {
   "cell_type": "markdown",
   "metadata": {},
   "source": [
    "We can compute the flux during an occultation as usual:"
   ]
  },
  {
   "cell_type": "code",
   "execution_count": null,
   "metadata": {},
   "outputs": [],
   "source": [
    "map.flux(xo=0.3, yo=0.4, ro=0.1)"
   ]
  },
  {
   "cell_type": "markdown",
   "metadata": {},
   "source": [
    "To also compute the gradient of the flux with respect to the input parameters, we can simply pass the `gradient=True` keyword:"
   ]
  },
  {
   "cell_type": "code",
   "execution_count": null,
   "metadata": {},
   "outputs": [],
   "source": [
    "flux, gradient = map.flux(xo=0.3, yo=0.4, ro=0.1, gradient=True)\n",
    "print(flux)\n",
    "print(gradient)"
   ]
  },
  {
   "cell_type": "markdown",
   "metadata": {},
   "source": [
    "What `starry` returns is the tuple `(F, dF)` of the flux and its gradient. The gradient `dF` is a dictionary of derivatives with respect to each of the input parameters (including `theta`, which we omitted in the call and whose default value is zero) and each of the spherical harmonic coefficients. The latter are given as a vector,"
   ]
  },
  {
   "cell_type": "code",
   "execution_count": null,
   "metadata": {},
   "outputs": [],
   "source": [
    "gradient['y']"
   ]
  },
  {
   "cell_type": "markdown",
   "metadata": {},
   "source": [
    "where each element is the derivative with respect to the corresponding element in the `map.y` vector. Note that the gradient also contains an entry for the limb darkening coefficients `u`, but since we didn't set any, `starry` didn't bother computing those derivatives."
   ]
  },
  {
   "cell_type": "markdown",
   "metadata": {},
   "source": [
    "Note that the gradient routines are fully vectorized, so we can compute an entire light curve and its time-dependent gradients in a single pass:"
   ]
  },
  {
   "cell_type": "code",
   "execution_count": null,
   "metadata": {},
   "outputs": [],
   "source": [
    "import numpy as np\n",
    "xo = np.linspace(-1.5, 1.5, 1000)\n",
    "flux, gradient = map.flux(xo=xo, yo=0.4, ro=0.1, gradient=True)"
   ]
  },
  {
   "cell_type": "markdown",
   "metadata": {},
   "source": [
    "Here's the light curve:"
   ]
  },
  {
   "cell_type": "code",
   "execution_count": null,
   "metadata": {},
   "outputs": [],
   "source": [
    "import matplotlib.pyplot as pl\n",
    "%matplotlib inline\n",
    "\n",
    "fig, ax = pl.subplots(1, figsize=(14, 5))\n",
    "ax.plot(xo, flux);"
   ]
  },
  {
   "cell_type": "markdown",
   "metadata": {},
   "source": [
    "And here are the first few gradients, normalized so we can plot them all on the same graph:"
   ]
  },
  {
   "cell_type": "code",
   "execution_count": null,
   "metadata": {},
   "outputs": [],
   "source": [
    "fig, ax = pl.subplots(1, figsize=(14, 5))\n",
    "ax.plot(xo, gradient['xo'] / np.nanmax(np.abs(gradient['xo'])), label=r'$dF/dx_o$')\n",
    "ax.plot(xo, gradient['yo'] / np.nanmax(np.abs(gradient['yo'])), label=r'$dF/dy_o$')\n",
    "ax.plot(xo, gradient['ro'] / np.nanmax(np.abs(gradient['ro'])), label=r'$dF/dr_o$')\n",
    "ax.plot(xo, gradient['theta'] / np.nanmax(np.abs(gradient['theta'])), label=r'$dF/d\\theta$')\n",
    "ax.legend(fontsize=14);"
   ]
  },
  {
   "cell_type": "markdown",
   "metadata": {},
   "source": [
    "## Gradients of `System` instances"
   ]
  },
  {
   "cell_type": "markdown",
   "metadata": {},
   "source": [
    "We can take gradients of `System` instances as well. Let's create a very simple star-planet system."
   ]
  },
  {
   "cell_type": "code",
   "execution_count": null,
   "metadata": {},
   "outputs": [],
   "source": [
    "from starry.kepler import Primary, Secondary, System\n",
    "\n",
    "# Body A\n",
    "star = Primary()\n",
    "star[1] = 0.4\n",
    "star[2] = 0.26\n",
    "\n",
    "# Body b\n",
    "planet = Secondary()\n",
    "planet.L = 1e-3\n",
    "planet.r = 0.1\n",
    "planet.prot = 1\n",
    "planet.porb = 1\n",
    "planet.ecc = 0.2\n",
    "planet.w = 35\n",
    "planet[1, 0] = 0.3\n",
    "planet[2, -1] = 0.3\n",
    "planet[2, 2] = -0.1\n",
    "\n",
    "# System\n",
    "system = System(star, planet)"
   ]
  },
  {
   "cell_type": "markdown",
   "metadata": {},
   "source": [
    "As before, we request the gradient via the `gradient=True` keyword of the `compute()` method. Let's compute a super high resolution light curve with 100,000 points so we can zoom in on interesting features."
   ]
  },
  {
   "cell_type": "code",
   "execution_count": null,
   "metadata": {},
   "outputs": [],
   "source": [
    "time = np.linspace(-1.75, 1.75, 100000)\n",
    "%time system.compute(time, gradient=True)"
   ]
  },
  {
   "cell_type": "markdown",
   "metadata": {},
   "source": [
    "We can plot the resulting light curve:"
   ]
  },
  {
   "cell_type": "code",
   "execution_count": null,
   "metadata": {},
   "outputs": [],
   "source": [
    "fig, ax = pl.subplots(1, figsize=(14, 5))\n",
    "ax.plot(time, system.lightcurve)\n",
    "ax.set_xlabel('Time (days)', fontsize=14)\n",
    "ax.set_ylabel('Flux', fontsize=14);"
   ]
  },
  {
   "cell_type": "markdown",
   "metadata": {},
   "source": [
    "As for the gradients, these are stored in the `gradient` attribute of the `System` instance:"
   ]
  },
  {
   "cell_type": "code",
   "execution_count": null,
   "metadata": {},
   "outputs": [],
   "source": [
    "system.gradient"
   ]
  },
  {
   "cell_type": "markdown",
   "metadata": {},
   "source": [
    "Note that since there are multiple bodies, the dictionary keys are prepended with the body identifier. The primary body (the star, in this case) is always given the identifier `A`. The secondary bodies are given lower case letters, starting with `b` and increasing in the order the bodies were specified when the system was instantiated."
   ]
  },
  {
   "cell_type": "markdown",
   "metadata": {},
   "source": [
    "There are a *ton* of interesting derivatives to show. But as a brief example, here's the derivative of the light curve with respect to the coefficient of the $Y_{1,1}$ spherical harmonic of the planet's map (that's the element of index $n=3$ in the vector `planet.y`):"
   ]
  },
  {
   "cell_type": "code",
   "execution_count": null,
   "metadata": {},
   "outputs": [],
   "source": [
    "fig, ax = pl.subplots(1, figsize=(14, 5))\n",
    "ax.plot(time, system.gradient['b.y'][2])\n",
    "ax.set_xlabel('Time (days)', fontsize=14)\n",
    "ax.set_ylabel('Flux', fontsize=14);"
   ]
  },
  {
   "cell_type": "markdown",
   "metadata": {},
   "source": [
    "Cool! Let's zoom in on those spikes, which happen at secondary eclipse ingress and egress:"
   ]
  },
  {
   "cell_type": "code",
   "execution_count": null,
   "metadata": {},
   "outputs": [],
   "source": [
    "fig, ax = pl.subplots(1, figsize=(14, 5))\n",
    "ax.plot(time, system.gradient['b.y'][2])\n",
    "ax.set_xlabel('Time (days)', fontsize=14)\n",
    "ax.set_ylabel('Flux', fontsize=14);\n",
    "ax.set_xlim(0.55, 0.564)\n",
    "ax.set_ylim(0.0005, -0.0005);"
   ]
  },
  {
   "cell_type": "markdown",
   "metadata": {},
   "source": [
    "**Note:** The `Secondary` and `Primary` instances also have their own `gradient` attributes, which store the gradient of *that body's flux* with respect to each of the parameters. Check those out as well!"
   ]
  },
  {
   "cell_type": "markdown",
   "metadata": {},
   "source": [
    "## All the gradients"
   ]
  },
  {
   "cell_type": "markdown",
   "metadata": {},
   "source": [
    "Finally, just for fun, we can plot **all** of the gradients `starry` is able to compute for a two-planet system. Below are three snippets of the light curve: a **transit** of the inner planet (left), a **secondary eclipse** of the inner planet by the star (center), and a **planet-planet occultation** of the inner planet by the outer planet (right). The top panels show the light curve and the sub panels show the derivatives of the light curve with respect to all 28 system parameters. Blue lines are the analytic versions computed by starry, while the orange dots are computed numerically. The numerical flux is computed using an adaptive mesh and the numerical derivatives are computed using finite differences. Note that several of the numerical derivatives show significant numerical instabilities, while the analytic derivatives do not!"
   ]
  },
  {
   "cell_type": "markdown",
   "metadata": {},
   "source": [
    "![](gradients.png)"
   ]
  }
 ],
 "metadata": {
  "kernelspec": {
   "display_name": "Python 3",
   "language": "python",
   "name": "python3"
  },
  "language_info": {
   "codemirror_mode": {
    "name": "ipython",
    "version": 3
   },
   "file_extension": ".py",
   "mimetype": "text/x-python",
   "name": "python",
   "nbconvert_exporter": "python",
   "pygments_lexer": "ipython3",
   "version": "3.6.5"
  }
 },
 "nbformat": 4,
 "nbformat_minor": 2
}
