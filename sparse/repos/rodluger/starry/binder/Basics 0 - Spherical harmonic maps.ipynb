{
 "cells": [
  {
   "cell_type": "markdown",
   "metadata": {},
   "source": [
    "# Introduction to spherical harmonic maps"
   ]
  },
  {
   "cell_type": "markdown",
   "metadata": {},
   "source": [
    "A *spherical harmonic map* is a vector of spherical harmonic coefficients, indexed by increasing degree $l$ and order $m$:\n",
    "\n",
    "$y = \\{Y_{0,0}, \\, Y_{1,-1}, \\, Y_{1,0}, \\, Y_{1,1} \\, Y_{2,-2}, \\, Y_{2,-1}, \\, Y_{2,0} \\, Y_{2,1}, \\, Y_{2,2}, \\, ...\\}$.\n",
    "\n",
    "For reference, here's what the first several spherical harmonic degrees look like:\n",
    "\n",
    "![](img/ylms.png)\n",
    "\n",
    "Each row corresponds to a different degree $l$, starting at $l = 0$. Within each row, the harmonics extend from order $m = -l$ to order $m = l$. Together, the spherical harmonics form a complete basis set on the sphere, so in principle *any surface map* can be expanded in terms of these functions.\n",
    "\n",
    "As an example, suppose we have the following map vector:\n",
    "\n",
    "```\n",
    "y = [1.00,  0.22,  0.19,  0.11,  0.11,  0.07,  -0.11, 0.00,  -0.05,\n",
    "     0.12,  0.16,  -0.05, 0.06,  0.12,  0.05,  -0.10, 0.04,  -0.02,\n",
    "     0.01,  0.10,  0.08,  0.15,  0.13,  -0.11, -0.07, -0.14, 0.06,\n",
    "     -0.19, -0.02, 0.07,  -0.02, 0.07,  -0.01, -0.07, 0.04,  0.00]\n",
    "```\n",
    "\n",
    "This is how much each spherical harmonic is contributing to the sum:\n",
    "\n",
    "![](img/ylms_earth.png)\n",
    "\n",
    "If we add up all of the terms, we get the following image:\n",
    "\n",
    "![](img/earth5.png)\n",
    "\n",
    "which is the $l = 5$ spherical harmonic expansion of a map of the Earth! South America is to the left and Africa is toward the top right. It might still be hard to see, so here's what we would get if we carried the expansion up to degree $l = 20$:\n",
    "\n",
    "![](img/earth20.png)\n",
    "\n",
    "One final cool thing about spherical harmonics is that they can be rotated, which makes them ideal for modeling planets, stars, and other celestial bodies:\n",
    "\n",
    "![](img/earth.gif)"
   ]
  }
 ],
 "metadata": {
  "kernelspec": {
   "display_name": "Python 3",
   "language": "python",
   "name": "python3"
  },
  "language_info": {
   "codemirror_mode": {
    "name": "ipython",
    "version": 3
   },
   "file_extension": ".py",
   "mimetype": "text/x-python",
   "name": "python",
   "nbconvert_exporter": "python",
   "pygments_lexer": "ipython3",
   "version": "3.6.6"
  }
 },
 "nbformat": 4,
 "nbformat_minor": 2
}
