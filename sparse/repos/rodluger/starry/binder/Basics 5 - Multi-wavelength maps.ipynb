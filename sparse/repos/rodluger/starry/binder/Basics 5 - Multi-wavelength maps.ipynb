{
 "cells": [
  {
   "cell_type": "markdown",
   "metadata": {},
   "source": [
    "# Multi-wavelength maps\n",
    "New in version `0.2.1` is the ability for users to instantiate wavelength-dependent maps. Nearly all of the computational overhead in `starry` comes from computing rotation matrices and integrals of the Green's basis functions, which makes it **really** fast to compute light curves at different wavelengths if we simply recycle the results of all of these operations.\n",
    "\n",
    "By \"wavelength-dependent map\" we mean a map whose spherical harmonic coefficients are a function of wavelength. Specifically, instead of setting the coefficient at $l, m$ to a scalar value, we can set it to a vector, where each element corresponds to the coefficient in a particular wavelength bin. Let's look at some examples."
   ]
  },
  {
   "cell_type": "markdown",
   "metadata": {},
   "source": [
    "## Instantiating multi-wavelength maps"
   ]
  },
  {
   "cell_type": "markdown",
   "metadata": {},
   "source": [
    "The key is to pass the `nwav` keyword when instantiating a `starry` object. For simplicity, let's do `nwav=3`, corresponding to three wavelength bins."
   ]
  },
  {
   "cell_type": "code",
   "execution_count": null,
   "metadata": {
    "nbsphinx": "hidden"
   },
   "outputs": [],
   "source": [
    "%matplotlib inline"
   ]
  },
  {
   "cell_type": "code",
   "execution_count": null,
   "metadata": {},
   "outputs": [],
   "source": [
    "from starry import Map\n",
    "map = Map(lmax=2, nwav=3)"
   ]
  },
  {
   "cell_type": "markdown",
   "metadata": {},
   "source": [
    "Recall that the map coefficients are now *vectors*. Here's what the coefficient *matrix* now looks like:"
   ]
  },
  {
   "cell_type": "code",
   "execution_count": null,
   "metadata": {},
   "outputs": [],
   "source": [
    "map.y"
   ]
  },
  {
   "cell_type": "markdown",
   "metadata": {},
   "source": [
    "Each row corresponds to a given spherical harmonic, and each column to a given wavelength bin. Let's set the $Y_{1,0}$ coefficient:"
   ]
  },
  {
   "cell_type": "code",
   "execution_count": null,
   "metadata": {},
   "outputs": [],
   "source": [
    "map[1, 0] = [0.3, 0.4, 0.5]"
   ]
  },
  {
   "cell_type": "markdown",
   "metadata": {},
   "source": [
    "Here's our new map vector:"
   ]
  },
  {
   "cell_type": "code",
   "execution_count": null,
   "metadata": {},
   "outputs": [],
   "source": [
    "map.y"
   ]
  },
  {
   "cell_type": "markdown",
   "metadata": {},
   "source": [
    "To visualize the map, we can call `map.show()` as usual, but now we actually get an *animation* showing us what the map looks like at each wavelength."
   ]
  },
  {
   "cell_type": "code",
   "execution_count": null,
   "metadata": {},
   "outputs": [],
   "source": [
    "map.show()"
   ]
  },
  {
   "cell_type": "markdown",
   "metadata": {},
   "source": [
    "(*Caveat: the* `map.animate()` *routine is disabled for multi-wavelength maps.*)"
   ]
  },
  {
   "cell_type": "markdown",
   "metadata": {},
   "source": [
    "Let's set a few more coefficients:"
   ]
  },
  {
   "cell_type": "code",
   "execution_count": null,
   "metadata": {},
   "outputs": [],
   "source": [
    "map[1, -1] = [0, 0.1, -0.1]\n",
    "map[2, -1] = [-0.1, -0.2, -0.1]\n",
    "map[2, 2] = [0.3, 0.2, 0.1]"
   ]
  },
  {
   "cell_type": "code",
   "execution_count": null,
   "metadata": {},
   "outputs": [],
   "source": [
    "map.show()"
   ]
  },
  {
   "cell_type": "markdown",
   "metadata": {},
   "source": [
    "OK, our map now has some interesting wavelength-dependent features. Let's compute some light curves! First, a simple phase curve:"
   ]
  },
  {
   "cell_type": "code",
   "execution_count": null,
   "metadata": {},
   "outputs": [],
   "source": [
    "import numpy as np\n",
    "theta = np.linspace(0, 360, 1000)\n",
    "map.axis = [0, 1, 0]\n",
    "phase_curve = map.flux(theta=theta)"
   ]
  },
  {
   "cell_type": "markdown",
   "metadata": {},
   "source": [
    "Let's plot it. The blue line is the first wavelength bin, the orange line is the second bin, and the green line is the third:"
   ]
  },
  {
   "cell_type": "code",
   "execution_count": null,
   "metadata": {},
   "outputs": [],
   "source": [
    "import matplotlib.pyplot as pl\n",
    "%matplotlib inline\n",
    "\n",
    "fig, ax = pl.subplots(1, figsize=(14, 6))\n",
    "ax.plot(theta, phase_curve);\n",
    "ax.set_xlabel(r'$\\theta$ (degrees)', fontsize=16)\n",
    "ax.set_ylabel('Flux', fontsize=16);"
   ]
  },
  {
   "cell_type": "markdown",
   "metadata": {},
   "source": [
    "We can also compute an occultation light curve:"
   ]
  },
  {
   "cell_type": "code",
   "execution_count": null,
   "metadata": {},
   "outputs": [],
   "source": [
    "xo = np.linspace(-1.5, 1.5, 1000)\n",
    "light_curve = map.flux(xo=xo, yo=0.2, ro=0.1)"
   ]
  },
  {
   "cell_type": "markdown",
   "metadata": {},
   "source": [
    "Let's plot it. This time we normalize the light curve by the baseline for better plotting, since the map has a different total flux at each wavelength:"
   ]
  },
  {
   "cell_type": "code",
   "execution_count": null,
   "metadata": {},
   "outputs": [],
   "source": [
    "fig, ax = pl.subplots(1, figsize=(14, 6))\n",
    "ax.plot(theta, light_curve / light_curve[0]);\n",
    "ax.set_xlabel('Occultor position', fontsize=16)\n",
    "ax.set_ylabel('Flux', fontsize=16);"
   ]
  },
  {
   "cell_type": "markdown",
   "metadata": {},
   "source": [
    "As we mentioned above, there's not that much overhead to computing light curves in many different wavelength bins. Check it out:"
   ]
  },
  {
   "cell_type": "code",
   "execution_count": null,
   "metadata": {},
   "outputs": [],
   "source": [
    "import time\n",
    "np.random.seed(1234)\n",
    "def runtime(nwav, N=10):\n",
    "    total_time = 0\n",
    "    xo = np.linspace(-1.5, 1.5, 1000)\n",
    "    for n in range(N):\n",
    "        map = Map(lmax=2, nwav=nwav)\n",
    "        map[:, :] = np.random.randn(9, nwav)\n",
    "        tstart = time.time()\n",
    "        map.flux(xo=xo, yo=0.2, ro=0.1)\n",
    "        total_time += time.time() - tstart\n",
    "    return total_time / N"
   ]
  },
  {
   "cell_type": "code",
   "execution_count": null,
   "metadata": {},
   "outputs": [],
   "source": [
    "nwav = np.arange(1, 50)\n",
    "t = [runtime(n) for n in nwav]"
   ]
  },
  {
   "cell_type": "code",
   "execution_count": null,
   "metadata": {},
   "outputs": [],
   "source": [
    "fig, ax = pl.subplots(1, figsize=(14, 7))\n",
    "ax.plot(nwav, t, '.')\n",
    "ax.plot(nwav, t, '-', color='C0', lw=1, alpha=0.3)\n",
    "ax.set_xlabel('nwav', fontsize=16)\n",
    "ax.set_ylabel('time (s)', fontsize=16);\n",
    "ax.set_ylim(0, 0.003);"
   ]
  }
 ],
 "metadata": {
  "kernelspec": {
   "display_name": "Python 3",
   "language": "python",
   "name": "python3"
  },
  "language_info": {
   "codemirror_mode": {
    "name": "ipython",
    "version": 3
   },
   "file_extension": ".py",
   "mimetype": "text/x-python",
   "name": "python",
   "nbconvert_exporter": "python",
   "pygments_lexer": "ipython3",
   "version": "3.6.5"
  }
 },
 "nbformat": 4,
 "nbformat_minor": 2
}
