{
 "cells": [
  {
   "cell_type": "markdown",
   "metadata": {},
   "source": [
    "# Exoplanet systems\n",
    "Here we'll discuss how to instantiate an exoplanet system and compute its full light curve. Currently, all orbital stuff lives in the `starry.kepler` module, which implements a simple Keplerian solver. This works for systems of exoplanets orbiting stars, moons orbiting planets, and binary star systems. Keep in mind, however, that the primary object is assumed to sit at the origin, and the secondary objects are assumed to be massless. A more flexible N-body solver will be added in the next version of the code, so stay tuned!"
   ]
  },
  {
   "cell_type": "markdown",
   "metadata": {},
   "source": [
    "## Creating a star"
   ]
  },
  {
   "cell_type": "markdown",
   "metadata": {},
   "source": [
    "This is as easy as it gets:"
   ]
  },
  {
   "cell_type": "code",
   "execution_count": null,
   "metadata": {
    "nbsphinx": "hidden"
   },
   "outputs": [],
   "source": [
    "%matplotlib inline"
   ]
  },
  {
   "cell_type": "code",
   "execution_count": null,
   "metadata": {},
   "outputs": [],
   "source": [
    "import starry\n",
    "star = starry.kepler.Primary()"
   ]
  },
  {
   "cell_type": "markdown",
   "metadata": {},
   "source": [
    "A `kepler.Primary` object is just a body that sits at the origin and either occults or gets occulted by other bodies, so you don't have too much freedom in settings its properties. For one, its radius and luminosity are fixed at unity: this sets the units for the properties of the `Secondary` bodies, since those bodies' radii, semi-major axes, and luminosities are specified in units of the `Primary`. You can, however, specify spherical harmonic and/or limb darkening coefficients, an axis of rotation, and a rotational period. In fact, the `kepler.Primary` class is a subclass of the `Map` class, so everything you can do with a `Map` you can do here, too. Check out the `Spotted star` tutorial for some ideas.\n",
    "\n",
    "As a simple example, let's set the limb darkening coefficients of the star. Let's give the stellar map a linear and a quadratic limb-darkening coefficient:"
   ]
  },
  {
   "cell_type": "code",
   "execution_count": null,
   "metadata": {},
   "outputs": [],
   "source": [
    "star[1] = 0.40\n",
    "star[2] = 0.26"
   ]
  },
  {
   "cell_type": "markdown",
   "metadata": {},
   "source": [
    "Here's what that looks like:"
   ]
  },
  {
   "cell_type": "code",
   "execution_count": null,
   "metadata": {},
   "outputs": [],
   "source": [
    "star.show()"
   ]
  },
  {
   "cell_type": "markdown",
   "metadata": {},
   "source": [
    "## Creating a planet"
   ]
  },
  {
   "cell_type": "markdown",
   "metadata": {},
   "source": [
    "Let's create a (very) hot Jupiter with some interesting properties:"
   ]
  },
  {
   "cell_type": "code",
   "execution_count": null,
   "metadata": {},
   "outputs": [],
   "source": [
    "planet = starry.kepler.Secondary(lmax=5)\n",
    "planet.r = 0.1\n",
    "planet.L = 5e-3\n",
    "planet.porb = 1\n",
    "planet.prot = 1\n",
    "planet.a = 30\n",
    "planet.Omega = 30\n",
    "planet.ecc = 0.3\n",
    "planet.w = 30"
   ]
  },
  {
   "cell_type": "markdown",
   "metadata": {},
   "source": [
    "Here we've instantiated a planet with a fifth degree surface map, a radius that is one-tenth that of the star, a luminosity that is one-two-hundredth that of the star, an orbital period of 1 day, a rotational period of 1 day, and a semi-major axis that's thirty times the stellar radius. This is essentially a tidally-locked hot Jupiter.\n",
    "\n",
    "**NOTE:** *The default rotational period for planets is **infinity**, so if you don't specify* `prot` *, the planet's surface map will not rotate as the planet orbits the star and there will be no phase curve variation. For planets whose emission tracks the star--i.e., a hot Jupiter with a hotspot--set* `prot=porb` *. Also note that the default luminosity is *zero*, so make sure to set that as well if you want any emission from the planet!*\n",
    "\n",
    "There are a bunch of other settings related to the orbit, so check out the docs for those. By default, planets are given zero eccentricity, edge-on inclination, and zero obliquity, and $t = 0$ corresponds to a transiting configuration.\n",
    "\n",
    "OK, the next thing we get to do is specify the planet's map. For simplicity, let's just create a random one:"
   ]
  },
  {
   "cell_type": "code",
   "execution_count": null,
   "metadata": {},
   "outputs": [],
   "source": [
    "import numpy as np\n",
    "np.random.seed(123)\n",
    "for l in range(1, planet.lmax + 1):\n",
    "    for m in range(-l, l + 1):\n",
    "        planet[l, m] = 0.01 * np.random.randn()"
   ]
  },
  {
   "cell_type": "code",
   "execution_count": null,
   "metadata": {},
   "outputs": [],
   "source": [
    "planet.show()"
   ]
  },
  {
   "cell_type": "markdown",
   "metadata": {},
   "source": [
    "Note that when instantiating a map for a `starry.kepler.Secondary` instance, **the map should be defined as it would appear during occultation by the primary (i.e., secondary eclipse).** That is, the image you see above is the full dayside of the planet, with the orbital plane slicing the planet's equator and ecliptic north pointing up. **This is true even for planets that aren't edge on and don't have secondary eclipses.** The map is always defined as if it were seen edge on, with the orbital plane along the $xy$ plane and the planet behind the primary. Check out the [viewing geometry tutorial](geometry.html) for more information.\n",
    "\n",
    "Now, it's probably a good idea to ensure we didn't end up with negative specific intensity anywhere:"
   ]
  },
  {
   "cell_type": "code",
   "execution_count": null,
   "metadata": {},
   "outputs": [],
   "source": [
    "planet.is_physical()"
   ]
  },
  {
   "cell_type": "markdown",
   "metadata": {},
   "source": [
    "This routine performs gradient descent to try to find the global minimum of the map, and returns `True` if the minimum is greater than or equal to zero. Since it's determining this numerically, it's probably a good idea to avoid doing this repeatedly (say, in an MCMC problem)."
   ]
  },
  {
   "cell_type": "markdown",
   "metadata": {},
   "source": [
    "## Creating a system"
   ]
  },
  {
   "cell_type": "markdown",
   "metadata": {},
   "source": [
    "Now that we have a star and a planet, we can instantiate a planetary system:"
   ]
  },
  {
   "cell_type": "code",
   "execution_count": null,
   "metadata": {},
   "outputs": [],
   "source": [
    "system = starry.kepler.System(star, planet)"
   ]
  },
  {
   "cell_type": "markdown",
   "metadata": {},
   "source": [
    "The first argument to a `starry.System` call is a `kepler.Primary` object, followed by any number of `kepler.Secondary` objects.\n",
    "\n",
    "There are some other system attributes you can set--notably an exposure time (`exptime`)--if the exposure time of your data is long enough to affect the light curve shape. Check out the docs for more information."
   ]
  },
  {
   "cell_type": "markdown",
   "metadata": {},
   "source": [
    "## Computing light curves"
   ]
  },
  {
   "cell_type": "markdown",
   "metadata": {},
   "source": [
    "We're ready to compute the full system light curve:"
   ]
  },
  {
   "cell_type": "code",
   "execution_count": null,
   "metadata": {},
   "outputs": [],
   "source": [
    "time = np.linspace(-0.25, 3.25, 10000)\n",
    "%time system.compute(time)"
   ]
  },
  {
   "cell_type": "markdown",
   "metadata": {},
   "source": [
    "Cool -- `starry` computed 10,000 cadences in 15 ms. Let's check it out:"
   ]
  },
  {
   "cell_type": "code",
   "execution_count": null,
   "metadata": {},
   "outputs": [],
   "source": [
    "import matplotlib.pyplot as pl\n",
    "%matplotlib inline\n",
    "fig, ax = pl.subplots(1, figsize=(14, 3))\n",
    "ax.set_xlabel('Time [days]', fontsize=16)\n",
    "ax.set_ylabel('System Flux', fontsize=16)\n",
    "ax.plot(time, system.lightcurve);"
   ]
  },
  {
   "cell_type": "markdown",
   "metadata": {},
   "source": [
    "We can also plot the stellar and planetary light curves individually:"
   ]
  },
  {
   "cell_type": "code",
   "execution_count": null,
   "metadata": {},
   "outputs": [],
   "source": [
    "# This will show you only the transits\n",
    "fig, ax = pl.subplots(1, figsize=(14, 3))\n",
    "ax.set_xlabel('Time [days]', fontsize=16)\n",
    "ax.set_ylabel('Planet Flux', fontsize=16)\n",
    "ax.plot(time, star.lightcurve);"
   ]
  },
  {
   "cell_type": "code",
   "execution_count": null,
   "metadata": {},
   "outputs": [],
   "source": [
    "# This will show you only the planet's flux (phase curve + secondary eclipse)\n",
    "fig, ax = pl.subplots(1, figsize=(14, 3))\n",
    "ax.set_xlabel('Time [days]', fontsize=16)\n",
    "ax.set_ylabel('Planet Flux', fontsize=16)\n",
    "ax.plot(time, planet.lightcurve);"
   ]
  },
  {
   "cell_type": "markdown",
   "metadata": {},
   "source": [
    "And, just for fun, the planet's orbit (the sky plane is the $xy$ plane, with $y$ pointing up and $x$ pointing to the right; $z$ points toward the observer):"
   ]
  },
  {
   "cell_type": "code",
   "execution_count": null,
   "metadata": {},
   "outputs": [],
   "source": [
    "fig, ax = pl.subplots(1, figsize=(14, 4.25))\n",
    "ax.plot(time, planet.X, label='x')\n",
    "ax.plot(time, planet.Y, label='y')\n",
    "ax.plot(time, planet.Z, label='z')\n",
    "ax.set_ylabel(r'Position [R$_*$]', fontsize=16);\n",
    "ax.set_xlabel(r'Time [days]', fontsize=16);\n",
    "ax.legend();\n",
    "\n",
    "fig, ax = pl.subplots(1,3, sharex=True, sharey=True, figsize=(14, 4.25))\n",
    "ax[0].plot(planet.X, planet.Y)\n",
    "ax[1].plot(planet.X, planet.Z)\n",
    "ax[2].plot(planet.Z, planet.Y)\n",
    "for n in [0, 1, 2]:\n",
    "    ax[n].scatter(0, 0, marker='*', color='k', s=100, zorder=10)\n",
    "ax[0].set_xlabel(r'x [R$_*$]', fontsize=16);\n",
    "ax[0].set_ylabel(r'y [R$_*$]', fontsize=16);\n",
    "ax[1].set_xlabel(r'x [R$_*$]', fontsize=16);\n",
    "ax[1].set_ylabel(r'z [R$_*$]', fontsize=16);\n",
    "ax[2].set_xlabel(r'z [R$_*$]', fontsize=16);\n",
    "ax[2].set_ylabel(r'y [R$_*$]', fontsize=16);"
   ]
  },
  {
   "cell_type": "markdown",
   "metadata": {},
   "source": [
    "## Comparison to `batman`"
   ]
  },
  {
   "cell_type": "markdown",
   "metadata": {},
   "source": [
    "One last thing we can do is compare a simple transit calculation to what we'd get with the `batman` code [(Kreidberg 2015)](https://astro.uchicago.edu/~kreidberg/batman/), a widely used and well-tested light curve tool."
   ]
  },
  {
   "cell_type": "markdown",
   "metadata": {},
   "source": [
    "First, let's define all the system parameters:"
   ]
  },
  {
   "cell_type": "code",
   "execution_count": null,
   "metadata": {},
   "outputs": [],
   "source": [
    "u1 = 0.4        # Stellar linear limb darkening coefficient\n",
    "u2 = 0.26       # Stellar quadratic limb darkening coefficient\n",
    "rplanet = 0.1   # Planet radius in units of stellar radius\n",
    "inc = 89.95      # Planet orbital inclination\n",
    "P = 50          # Planet orbital period in days\n",
    "a = 300         # Planet semi-major axis in units of stellar radius"
   ]
  },
  {
   "cell_type": "markdown",
   "metadata": {},
   "source": [
    "We'll evaluate the light curve on the following time grid:"
   ]
  },
  {
   "cell_type": "code",
   "execution_count": null,
   "metadata": {},
   "outputs": [],
   "source": [
    "npts = 500\n",
    "time = np.linspace(-0.1, 0.1, npts)"
   ]
  },
  {
   "cell_type": "markdown",
   "metadata": {},
   "source": [
    "Let's evaluate the `starry` light curve for this system:"
   ]
  },
  {
   "cell_type": "code",
   "execution_count": null,
   "metadata": {},
   "outputs": [],
   "source": [
    "# Instantiate the star\n",
    "star = starry.kepler.Primary()\n",
    "star[1] = u1\n",
    "star[2] = u2\n",
    "\n",
    "# Instantiate the planet\n",
    "planet = starry.kepler.Secondary()\n",
    "planet.r = rplanet\n",
    "planet.inc = inc\n",
    "planet.porb = P\n",
    "planet.a = a\n",
    "planet.lambda0 = 90\n",
    "\n",
    "# Instantiate the system\n",
    "system = starry.kepler.System(star, planet)\n",
    "\n",
    "# Compute and store the light curve\n",
    "system.compute(time)\n",
    "flux_starry = system.lightcurve"
   ]
  },
  {
   "cell_type": "markdown",
   "metadata": {},
   "source": [
    "And now the `batman` light curve:"
   ]
  },
  {
   "cell_type": "code",
   "execution_count": null,
   "metadata": {},
   "outputs": [],
   "source": [
    "import batman\n",
    "params = batman.TransitParams()\n",
    "params.limb_dark = \"quadratic\"\n",
    "params.u = [u1, u2]\n",
    "params.t0 = 0.\n",
    "params.ecc = 0.\n",
    "params.w = 90.\n",
    "params.rp = rplanet\n",
    "params.a = a\n",
    "params.per = P\n",
    "params.inc = inc\n",
    "m = batman.TransitModel(params, time)\n",
    "flux_batman = m.light_curve(params)"
   ]
  },
  {
   "cell_type": "markdown",
   "metadata": {},
   "source": [
    "Let's plot the two light curves:"
   ]
  },
  {
   "cell_type": "code",
   "execution_count": null,
   "metadata": {},
   "outputs": [],
   "source": [
    "fig, ax = pl.subplots(1, figsize=(14, 6))\n",
    "ax.set_xlabel('Time [days]', fontsize=16)\n",
    "ax.set_ylabel('Stellar Flux', fontsize=16)\n",
    "ax.plot(time, flux_starry, label='starry', lw=3);\n",
    "ax.plot(time, flux_batman, '--', label='batman', lw=3);\n",
    "ax.legend(fontsize=14);"
   ]
  },
  {
   "cell_type": "markdown",
   "metadata": {},
   "source": [
    "Here is the difference between the two models:"
   ]
  },
  {
   "cell_type": "code",
   "execution_count": null,
   "metadata": {},
   "outputs": [],
   "source": [
    "fig, ax = pl.subplots(1, figsize=(14, 6))\n",
    "ax.set_xlabel('Time [days]', fontsize=16)\n",
    "ax.set_ylabel('Residuals', fontsize=16)\n",
    "ax.plot(time, flux_starry - flux_batman);"
   ]
  },
  {
   "cell_type": "markdown",
   "metadata": {},
   "source": [
    "It's on the order of a few parts per billion, which is quite small. The oscillations are due to the fact that `batman` uses [Hasting's approximation](https://github.com/lkreidberg/batman/blob/master/c_src/_quadratic_ld.c#L304) to compute the elliptic integrals, which is slightly faster but leads to small errors. In practice, however, the two models are equivalent for exoplanet transit modeling."
   ]
  },
  {
   "cell_type": "markdown",
   "metadata": {},
   "source": [
    "**One final note.** You may have noticed that some of the parameters accepted by `batman` and `starry` are slightly different. While `batman` accepts the transit mid-point `t0` as an input parameter, `starry` accepts the mean longitude `lambda0` at the reference time `tref` instead. This is a bit more general and useful, for instance, in the case of non-transiting bodies. By default, `tref=0` and `lambda0=90`, corresponding to a transit time of `t0=0`. For eccentric orbits things can get a little tricky converting between these two conventions, but the way to do is to remember that the **true anomaly at the transit midpoint is** \n",
    "\n",
    "$f_{t_0} = \\frac{\\pi}{2} - \\varpi$\n",
    "\n"
   ]
  },
  {
   "cell_type": "markdown",
   "metadata": {},
   "source": [
    "where $\\varpi$ is the longitude of pericenter, the `w` attribute of a `starry.kepler.Secondary` instance. Solving [Kepler's equation](https://en.wikipedia.org/wiki/Eccentric_anomaly) can then yield the time of the transit mid-point."
   ]
  },
  {
   "cell_type": "markdown",
   "metadata": {},
   "source": [
    "For circular orbits, the true anomaly, eccentric anomaly, and mean anomaly are all the same ($f = E = M$), and since $M = \\lambda - \\varpi$, we have $\\lambda = \\frac{\\pi}{2}$ at the transit mid-point, as expected."
   ]
  }
 ],
 "metadata": {
  "kernelspec": {
   "display_name": "Python 3",
   "language": "python",
   "name": "python3"
  },
  "language_info": {
   "codemirror_mode": {
    "name": "ipython",
    "version": 3
   },
   "file_extension": ".py",
   "mimetype": "text/x-python",
   "name": "python",
   "nbconvert_exporter": "python",
   "pygments_lexer": "ipython3",
   "version": "3.6.5"
  }
 },
 "nbformat": 4,
 "nbformat_minor": 2
}
