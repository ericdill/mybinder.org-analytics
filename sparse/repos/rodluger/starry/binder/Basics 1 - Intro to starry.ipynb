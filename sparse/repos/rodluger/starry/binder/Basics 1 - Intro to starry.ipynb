{
 "cells": [
  {
   "cell_type": "markdown",
   "metadata": {},
   "source": [
    "# Introduction to `starry`\n",
    "Here we'll discuss how to instantiate spherical harmonic maps, plot them, rotate them, and compute phase curves and occultation light curves."
   ]
  },
  {
   "cell_type": "markdown",
   "metadata": {},
   "source": [
    "## Using `starry`\n",
    "\n",
    "The first thing we should do is import `starry` and instantiate a `Map` object. This is the simplest way of creating a spherical harmonic map. The `Map` object takes a few arguments, the most important of which is `lmax`, the highest degree of the spherical harmonics used to describe the map. Let's create a fifth-order map:"
   ]
  },
  {
   "cell_type": "code",
   "execution_count": null,
   "metadata": {},
   "outputs": [],
   "source": [
    "import starry\n",
    "map = starry.Map(lmax=5)"
   ]
  },
  {
   "cell_type": "markdown",
   "metadata": {},
   "source": [
    "The `y` attribute of the map stores the spherical harmonic coefficients. We can see that our map is initialized to a constant map: "
   ]
  },
  {
   "cell_type": "code",
   "execution_count": null,
   "metadata": {},
   "outputs": [],
   "source": [
    "map.y"
   ]
  },
  {
   "cell_type": "markdown",
   "metadata": {},
   "source": [
    "By default, the $Y_{0,0}$ coefficient is set to unity, and all other coefficients are set to zero. Our map is therefore just the first spherical harmonic, which if you scroll up you'll see is that constant dark blue disk at the top of the first figure. We can also quickly visualize the map by calling the `show` method:"
   ]
  },
  {
   "cell_type": "code",
   "execution_count": null,
   "metadata": {},
   "outputs": [],
   "source": [
    "map.show()"
   ]
  },
  {
   "cell_type": "markdown",
   "metadata": {},
   "source": [
    "Not that interesting! But before we give this map some features, let's briefly discuss how we would *evaluate* our map. This means computing the intensity at a point on the surface. We can do this simply by calling the map object and passing an $xy$ coordinate. Let's investigate the intensity at the center of the map:"
   ]
  },
  {
   "cell_type": "code",
   "execution_count": null,
   "metadata": {},
   "outputs": [],
   "source": [
    "map(x=0, y=0)"
   ]
  },
  {
   "cell_type": "markdown",
   "metadata": {},
   "source": [
    "Since our map is constant, this is the intensity everywhere on the surface. It may seem like a strange number, but perhaps it will make sense if compute what the total *flux* (intensity integrated over area) of the map is. Since the map is constant, and since the body we're modeling has unit radius by default, the total flux visible to the observer is just..."
   ]
  },
  {
   "cell_type": "code",
   "execution_count": null,
   "metadata": {},
   "outputs": [],
   "source": [
    "import numpy as np\n",
    "np.pi * 1.0 ** 2 * map(x=0, y=0)"
   ]
  },
  {
   "cell_type": "markdown",
   "metadata": {},
   "source": [
    "So the total flux visible from the map is [unity](https://en.wikipedia.org/wiki/0.999...). **This is how maps in** `starry` **are normalized:** the average disk-integrated intensity is equal to the coefficient of the constant $Y_{0,0}$ harmonic, which by default is unity. We're going to discuss in detail how to compute fluxes below, but here's a sneak peek:"
   ]
  },
  {
   "cell_type": "code",
   "execution_count": null,
   "metadata": {},
   "outputs": [],
   "source": [
    "map.flux()"
   ]
  },
  {
   "cell_type": "markdown",
   "metadata": {},
   "source": [
    "Given zero arguments, the `flux` method of the map returns the total visible flux from the map, which as we showed above, is just unity."
   ]
  },
  {
   "cell_type": "markdown",
   "metadata": {},
   "source": [
    "## Setting map coefficients"
   ]
  },
  {
   "cell_type": "markdown",
   "metadata": {},
   "source": [
    "Okay, onto more interesting things. Setting spherical harmonic coefficients is extremely easy: we can assign values directly to the map instance itself. Say we wish to set the coefficient of the spherical harmonic $Y_{5, -3}$ to $-2$. We simply run"
   ]
  },
  {
   "cell_type": "code",
   "execution_count": null,
   "metadata": {},
   "outputs": [],
   "source": [
    "map[5, -3] = -2"
   ]
  },
  {
   "cell_type": "markdown",
   "metadata": {},
   "source": [
    "We can check that the spherical harmonic vector (which is a flattened version of the image we showed above) has been updated accordingly:"
   ]
  },
  {
   "cell_type": "code",
   "execution_count": null,
   "metadata": {},
   "outputs": [],
   "source": [
    "map.y"
   ]
  },
  {
   "cell_type": "markdown",
   "metadata": {},
   "source": [
    "And here's what our map now looks like:"
   ]
  },
  {
   "cell_type": "code",
   "execution_count": null,
   "metadata": {},
   "outputs": [],
   "source": [
    "map.show()"
   ]
  },
  {
   "cell_type": "markdown",
   "metadata": {},
   "source": [
    "Just for fun, let's set two additional coefficients:"
   ]
  },
  {
   "cell_type": "code",
   "execution_count": null,
   "metadata": {},
   "outputs": [],
   "source": [
    "map[5, 0] = 2\n",
    "map[5, 4] = 1"
   ]
  },
  {
   "cell_type": "code",
   "execution_count": null,
   "metadata": {},
   "outputs": [],
   "source": [
    "map.show()"
   ]
  },
  {
   "cell_type": "markdown",
   "metadata": {},
   "source": [
    "Kind of looks like a smiley face!\n",
    "\n",
    "**Pro tip:** *To turn your smiley face into a Teenage Mutant Ninja Turtle, simply edit the* $Y_{5,2}$ *coefficient:*"
   ]
  },
  {
   "cell_type": "code",
   "execution_count": null,
   "metadata": {},
   "outputs": [],
   "source": [
    "map[5, 2] = 1.5\n",
    "map.show()"
   ]
  },
  {
   "cell_type": "markdown",
   "metadata": {},
   "source": [
    "It's probably useful to play around with setting coefficients and plotting the resulting map to get a feel for how the spherical harmonics work. One last note on visualizing maps: you can quickly animate the map by setting the map's rotation axis,"
   ]
  },
  {
   "cell_type": "code",
   "execution_count": null,
   "metadata": {},
   "outputs": [],
   "source": [
    "map.axis = [0, 1, 0]"
   ]
  },
  {
   "cell_type": "markdown",
   "metadata": {},
   "source": [
    "(in this case, $\\hat{y}$) and calling the `animate` method:"
   ]
  },
  {
   "cell_type": "code",
   "execution_count": null,
   "metadata": {},
   "outputs": [],
   "source": [
    "map.animate()"
   ]
  },
  {
   "cell_type": "markdown",
   "metadata": {},
   "source": [
    "Unfortunately, the back of our turtle's head doesn't look very flattering."
   ]
  },
  {
   "cell_type": "markdown",
   "metadata": {},
   "source": [
    "## Rotating maps"
   ]
  },
  {
   "cell_type": "markdown",
   "metadata": {},
   "source": [
    "Before we get into light curve computation, there's one last thing we should know how to do, and that's apply rotations to maps. There are some very cool theorems that allow us to efficiently rotate spherical harmonics, so it's quite easy to rotate a map around an arbitrary axis in 3D space. The animation above shows a series of rotations about $\\hat{y}$, but what if we want to actually rotate our map to an arbitrary orientation so that we can, say, compute its occultation light curve? Let's use the Ninja Turtle example from above:"
   ]
  },
  {
   "cell_type": "code",
   "execution_count": null,
   "metadata": {},
   "outputs": [],
   "source": [
    "map.show()"
   ]
  },
  {
   "cell_type": "markdown",
   "metadata": {},
   "source": [
    "In order to rotate it about a given axis, first we set the map's `axis` attribute:"
   ]
  },
  {
   "cell_type": "code",
   "execution_count": null,
   "metadata": {},
   "outputs": [],
   "source": [
    "map.axis = [1, 0.5, 0]"
   ]
  },
  {
   "cell_type": "markdown",
   "metadata": {},
   "source": [
    "This is the vector $\\vec{u} = \\hat{x} + \\frac{1}{2}\\hat{y}$, which kind of points up and to the right in the plane of the sky. You'll notice that the vector we provided is *not normalized* (the sum of the squares of the coefficients is larger than unity), but `starry` took care of that for us behind the scenes:"
   ]
  },
  {
   "cell_type": "code",
   "execution_count": null,
   "metadata": {},
   "outputs": [],
   "source": [
    "map.axis"
   ]
  },
  {
   "cell_type": "markdown",
   "metadata": {},
   "source": [
    "Now, we can rotate the base map about this axis by typing"
   ]
  },
  {
   "cell_type": "code",
   "execution_count": null,
   "metadata": {},
   "outputs": [],
   "source": [
    "map.rotate(30)"
   ]
  },
  {
   "cell_type": "markdown",
   "metadata": {},
   "source": [
    "where we specified a rotation angle of $30^\\circ$. Rotations in `starry` are always *counter-clockwise*, so this will rotate the map downward and slightly to the right. Here's what our new map looks like:"
   ]
  },
  {
   "cell_type": "code",
   "execution_count": null,
   "metadata": {},
   "outputs": [],
   "source": [
    "map.show()"
   ]
  },
  {
   "cell_type": "markdown",
   "metadata": {},
   "source": [
    "We can see that all the coefficients changed:"
   ]
  },
  {
   "cell_type": "code",
   "execution_count": null,
   "metadata": {},
   "outputs": [],
   "source": [
    "map.y"
   ]
  },
  {
   "cell_type": "markdown",
   "metadata": {},
   "source": [
    "Rotations of spherical harmonics operate on each degree independently: note how only the $l = 5$ coefficients were affected."
   ]
  },
  {
   "cell_type": "markdown",
   "metadata": {},
   "source": [
    "## Computing phase curves\n",
    "We've seen how to instantiate and manipulate maps, but what we really would like to do is compute light curves. So let's get to it. Everything we need is in the `flux` method:\n",
    "\n",
    "```python\n",
    "def flux(self, theta=0, xo=0, yo=0, ro=0, gradient=False, numerical=False):\n",
    "    ...\n",
    "```\n",
    "\n",
    "As before, `theta` defines the rotation angle of the map. The parameters `xo`, `yo`, and `ro` define the location and size of the occulting body (if any) relative to the `Map` object. `xo` and `yo` are the location of the center of the occultor and `ro` is its radius, all measured in units of the `Map` object's radius (=1). By the way, `theta`, `xo`, `yo`, and `ro` can all be either scalars or vectors. If more than one is a vector, their sizes must (obviously) match."
   ]
  },
  {
   "cell_type": "markdown",
   "metadata": {},
   "source": [
    "To start, let's simply compute some phase curves, with no occultations. Let's operate on our Ninja Turtle map:"
   ]
  },
  {
   "cell_type": "code",
   "execution_count": null,
   "metadata": {},
   "outputs": [],
   "source": [
    "map.show()"
   ]
  },
  {
   "cell_type": "markdown",
   "metadata": {},
   "source": [
    "We will compute one full cycle of the phase curve by varying `theta` between 0 and 360 degrees. For simplicity, let's pick $\\hat{y}$ as our rotation axis."
   ]
  },
  {
   "cell_type": "code",
   "execution_count": null,
   "metadata": {},
   "outputs": [],
   "source": [
    "theta = np.linspace(0, 360, 100, endpoint=False)\n",
    "map.axis = [0, 1, 0]"
   ]
  },
  {
   "cell_type": "markdown",
   "metadata": {},
   "source": [
    "Computing the phase curve is super easy:"
   ]
  },
  {
   "cell_type": "code",
   "execution_count": null,
   "metadata": {},
   "outputs": [],
   "source": [
    "F = map.flux(theta=theta)"
   ]
  },
  {
   "cell_type": "markdown",
   "metadata": {},
   "source": [
    "Plot the results:"
   ]
  },
  {
   "cell_type": "code",
   "execution_count": null,
   "metadata": {},
   "outputs": [],
   "source": [
    "import matplotlib.pyplot as pl\n",
    "%matplotlib inline\n",
    "fig, ax = pl.subplots(1, figsize=(14, 5))\n",
    "ax.plot(theta, F);\n",
    "ax.set_xlabel(r'$\\theta$ (degrees)');\n",
    "ax.set_ylabel(r'Flux');\n",
    "ax.set_title(r'Map rotated about $\\hat{y}$', fontsize=16);"
   ]
  },
  {
   "cell_type": "markdown",
   "metadata": {},
   "source": [
    "Wait a minute... Where's the phase curve? There seems to be something there, but look at the scale: the variations are on the order of $10^{-15}$, which is close to machine epsilon. As it happens, our map has odd degree $l$, which means it's actually in the null space for rotations about $\\hat{y}$ and $\\hat{x}$! As the map rotates and a region of high flux comes into view, there's a region of low flux rotating out of view that perfectly cancels out the signal. This is a curious property of the odd $l > 1$ spherical harmonics, so our Ninja Turtle does in fact have no phase curve!"
   ]
  },
  {
   "cell_type": "code",
   "execution_count": null,
   "metadata": {},
   "outputs": [],
   "source": [
    "map.animate()"
   ]
  },
  {
   "cell_type": "markdown",
   "metadata": {},
   "source": [
    "What we can do to get a phase curve signal is add some power to the even degrees:"
   ]
  },
  {
   "cell_type": "code",
   "execution_count": null,
   "metadata": {},
   "outputs": [],
   "source": [
    "map[2, 2] = -0.3\n",
    "map[4, 0] = 1\n",
    "map[4, -2] = -2\n",
    "map.show()"
   ]
  },
  {
   "cell_type": "markdown",
   "metadata": {},
   "source": [
    "Sadly, it no longer looks like a Ninja Turtle. But let's rotate this new map about each of the three principal axes and see what we get:"
   ]
  },
  {
   "cell_type": "code",
   "execution_count": null,
   "metadata": {},
   "outputs": [],
   "source": [
    "# xhat\n",
    "map.axis = [1, 0, 0]\n",
    "Fx = map.flux(theta=theta)\n",
    "\n",
    "# yhat\n",
    "map.axis = [0, 1, 0]\n",
    "Fy = map.flux(theta=theta)\n",
    "\n",
    "# zhat\n",
    "map.axis = [0, 0, 1]\n",
    "Fz = map.flux(theta=theta)"
   ]
  },
  {
   "cell_type": "code",
   "execution_count": null,
   "metadata": {},
   "outputs": [],
   "source": [
    "fig, ax = pl.subplots(1, figsize=(14, 5))\n",
    "ax.plot(theta, Fx, label=r\"$\\hat{x}$\");\n",
    "ax.plot(theta, Fy, label=r\"$\\hat{y}$\");\n",
    "ax.plot(theta, Fz, label=r\"$\\hat{z}$\");\n",
    "ax.set_xlabel(r'$\\theta$ (degrees)');\n",
    "ax.set_ylabel(r'Flux');\n",
    "ax.legend();\n",
    "ax.set_title(r'Map rotated about $\\hat{y}$', fontsize=16);"
   ]
  },
  {
   "cell_type": "markdown",
   "metadata": {},
   "source": [
    "Cool! Note that rotation about $\\hat{z}$ never yields a phase curve, since that's a rotation about the line of sight, which cannot change the integrated intensity. Just for fun, here are animations of the three rotations we applied:"
   ]
  },
  {
   "cell_type": "code",
   "execution_count": null,
   "metadata": {},
   "outputs": [],
   "source": [
    "map.axis = [1, 0, 0]\n",
    "map.animate()"
   ]
  },
  {
   "cell_type": "code",
   "execution_count": null,
   "metadata": {},
   "outputs": [],
   "source": [
    "map.axis = [0, 1, 0]\n",
    "map.animate()"
   ]
  },
  {
   "cell_type": "code",
   "execution_count": null,
   "metadata": {},
   "outputs": [],
   "source": [
    "map.axis = [0, 0, 1]\n",
    "map.animate()"
   ]
  },
  {
   "cell_type": "markdown",
   "metadata": {},
   "source": [
    "## Computing occultation light curves"
   ]
  },
  {
   "cell_type": "markdown",
   "metadata": {},
   "source": [
    "Finally, we're ready to discuss occultation light curves! Let's occult the map we created with a small occultor and compute the resulting light curve."
   ]
  },
  {
   "cell_type": "code",
   "execution_count": null,
   "metadata": {},
   "outputs": [],
   "source": [
    "map.show()"
   ]
  },
  {
   "cell_type": "markdown",
   "metadata": {},
   "source": [
    "Consider an occultor of radius $r_o = 0.1$ moving along the $+x$ direction at $y_o = -0.5$. Suppose that the occulted body rotates by $30^\\circ$ about the $y$-axis in the meantime. Let's define our variables:"
   ]
  },
  {
   "cell_type": "code",
   "execution_count": null,
   "metadata": {},
   "outputs": [],
   "source": [
    "npts = 100\n",
    "ro = 0.1\n",
    "xo = np.linspace(-3, 3, npts)\n",
    "yo = -0.5\n",
    "theta = np.linspace(0, 30, npts, endpoint=False)\n",
    "map.axis = [0, 1, 0]"
   ]
  },
  {
   "cell_type": "markdown",
   "metadata": {},
   "source": [
    "Computing the occultation light curve is now easy:"
   ]
  },
  {
   "cell_type": "code",
   "execution_count": null,
   "metadata": {},
   "outputs": [],
   "source": [
    "F = map.flux(theta=theta, xo=xo, yo=yo, ro=ro)"
   ]
  },
  {
   "cell_type": "markdown",
   "metadata": {},
   "source": [
    "Here's the rather odd-looking light curve:"
   ]
  },
  {
   "cell_type": "code",
   "execution_count": null,
   "metadata": {},
   "outputs": [],
   "source": [
    "fig, ax = pl.subplots(1)\n",
    "ax.plot(theta, F, lw=2);\n",
    "ax.set_xlabel(r'$\\theta$ (degrees)');\n",
    "ax.set_ylabel(r'Flux');\n",
    "ax.set_title(r'Occultation Lightcurve', fontsize=16);"
   ]
  },
  {
   "cell_type": "markdown",
   "metadata": {},
   "source": [
    "The occultor first blocks the bright yellow region near the limb at the left, causing the first big dip. It then occults the very dark region at the bottom center of the map, causing the bump in the light curve (the intensity there is actually *negative* -- oops! -- so the light curve gets *brighter* with the occultor in place). Finally, it occults the bright yellow region at the right. All this while the occulted body is rotating, and its phase curve signature is evident."
   ]
  },
  {
   "cell_type": "markdown",
   "metadata": {},
   "source": [
    "That's it for now! There's a lot more you can do with `starry`, so be sure to check out the other tutorials!"
   ]
  }
 ],
 "metadata": {
  "kernelspec": {
   "display_name": "Python 3",
   "language": "python",
   "name": "python3"
  },
  "language_info": {
   "codemirror_mode": {
    "name": "ipython",
    "version": 3
   },
   "file_extension": ".py",
   "mimetype": "text/x-python",
   "name": "python",
   "nbconvert_exporter": "python",
   "pygments_lexer": "ipython3",
   "version": "3.6.6"
  }
 },
 "nbformat": 4,
 "nbformat_minor": 2
}
